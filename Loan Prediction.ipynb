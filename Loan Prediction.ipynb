{
 "cells": [
  {
   "cell_type": "code",
   "execution_count": 1,
   "metadata": {
    "collapsed": false
   },
   "outputs": [],
   "source": [
    "#Importing necessary libraries\n",
    "import pandas as pd\n",
    "from sklearn import tree\n",
    "from sklearn import metrics\n",
    "import numpy as np\n",
    "import matplotlib.pyplot as plt\n",
    "import seaborn as sns\n",
    "from sklearn.model_selection import RandomizedSearchCV,GridSearchCV,cross_val_score\n",
    "from sklearn.preprocessing import StandardScaler\n",
    "from sklearn.linear_model import LogisticRegression\n",
    "from sklearn.ensemble import RandomForestClassifier\n",
    "from sklearn.neighbors import KNeighborsClassifier\n",
    "from sklearn.tree import DecisionTreeClassifier\n",
    "% matplotlib inline"
   ]
  },
  {
   "cell_type": "code",
   "execution_count": 2,
   "metadata": {
    "collapsed": true
   },
   "outputs": [],
   "source": [
    "#Reading the files\n",
    "train_dataset = pd.read_csv(\"D:/Machine Learning/UPX/Projects/Machine Learning Projects/Datasets/Loan_prediction/train_loan.csv\")\n",
    "test_dataset = pd.read_csv(\"D:/Machine Learning/UPX/Projects/Machine Learning Projects/Datasets/Loan_prediction/test_loan.csv\")"
   ]
  },
  {
   "cell_type": "code",
   "execution_count": 3,
   "metadata": {
    "collapsed": false
   },
   "outputs": [
    {
     "data": {
      "text/html": [
       "<div>\n",
       "<table border=\"1\" class=\"dataframe\">\n",
       "  <thead>\n",
       "    <tr style=\"text-align: right;\">\n",
       "      <th></th>\n",
       "      <th>Loan_ID</th>\n",
       "      <th>Gender</th>\n",
       "      <th>Married</th>\n",
       "      <th>Dependents</th>\n",
       "      <th>Education</th>\n",
       "      <th>Self_Employed</th>\n",
       "      <th>ApplicantIncome</th>\n",
       "      <th>CoapplicantIncome</th>\n",
       "      <th>LoanAmount</th>\n",
       "      <th>Loan_Amount_Term</th>\n",
       "      <th>Credit_History</th>\n",
       "      <th>Property_Area</th>\n",
       "      <th>Loan_Status</th>\n",
       "    </tr>\n",
       "  </thead>\n",
       "  <tbody>\n",
       "    <tr>\n",
       "      <th>0</th>\n",
       "      <td>LP001002</td>\n",
       "      <td>Male</td>\n",
       "      <td>No</td>\n",
       "      <td>0</td>\n",
       "      <td>Graduate</td>\n",
       "      <td>No</td>\n",
       "      <td>5849</td>\n",
       "      <td>0.0</td>\n",
       "      <td>NaN</td>\n",
       "      <td>360.0</td>\n",
       "      <td>1.0</td>\n",
       "      <td>Urban</td>\n",
       "      <td>Y</td>\n",
       "    </tr>\n",
       "    <tr>\n",
       "      <th>1</th>\n",
       "      <td>LP001003</td>\n",
       "      <td>Male</td>\n",
       "      <td>Yes</td>\n",
       "      <td>1</td>\n",
       "      <td>Graduate</td>\n",
       "      <td>No</td>\n",
       "      <td>4583</td>\n",
       "      <td>1508.0</td>\n",
       "      <td>128.0</td>\n",
       "      <td>360.0</td>\n",
       "      <td>1.0</td>\n",
       "      <td>Rural</td>\n",
       "      <td>N</td>\n",
       "    </tr>\n",
       "    <tr>\n",
       "      <th>2</th>\n",
       "      <td>LP001005</td>\n",
       "      <td>Male</td>\n",
       "      <td>Yes</td>\n",
       "      <td>0</td>\n",
       "      <td>Graduate</td>\n",
       "      <td>Yes</td>\n",
       "      <td>3000</td>\n",
       "      <td>0.0</td>\n",
       "      <td>66.0</td>\n",
       "      <td>360.0</td>\n",
       "      <td>1.0</td>\n",
       "      <td>Urban</td>\n",
       "      <td>Y</td>\n",
       "    </tr>\n",
       "    <tr>\n",
       "      <th>3</th>\n",
       "      <td>LP001006</td>\n",
       "      <td>Male</td>\n",
       "      <td>Yes</td>\n",
       "      <td>0</td>\n",
       "      <td>Not Graduate</td>\n",
       "      <td>No</td>\n",
       "      <td>2583</td>\n",
       "      <td>2358.0</td>\n",
       "      <td>120.0</td>\n",
       "      <td>360.0</td>\n",
       "      <td>1.0</td>\n",
       "      <td>Urban</td>\n",
       "      <td>Y</td>\n",
       "    </tr>\n",
       "    <tr>\n",
       "      <th>4</th>\n",
       "      <td>LP001008</td>\n",
       "      <td>Male</td>\n",
       "      <td>No</td>\n",
       "      <td>0</td>\n",
       "      <td>Graduate</td>\n",
       "      <td>No</td>\n",
       "      <td>6000</td>\n",
       "      <td>0.0</td>\n",
       "      <td>141.0</td>\n",
       "      <td>360.0</td>\n",
       "      <td>1.0</td>\n",
       "      <td>Urban</td>\n",
       "      <td>Y</td>\n",
       "    </tr>\n",
       "  </tbody>\n",
       "</table>\n",
       "</div>"
      ],
      "text/plain": [
       "    Loan_ID Gender Married Dependents     Education Self_Employed  \\\n",
       "0  LP001002   Male      No          0      Graduate            No   \n",
       "1  LP001003   Male     Yes          1      Graduate            No   \n",
       "2  LP001005   Male     Yes          0      Graduate           Yes   \n",
       "3  LP001006   Male     Yes          0  Not Graduate            No   \n",
       "4  LP001008   Male      No          0      Graduate            No   \n",
       "\n",
       "   ApplicantIncome  CoapplicantIncome  LoanAmount  Loan_Amount_Term  \\\n",
       "0             5849                0.0         NaN             360.0   \n",
       "1             4583             1508.0       128.0             360.0   \n",
       "2             3000                0.0        66.0             360.0   \n",
       "3             2583             2358.0       120.0             360.0   \n",
       "4             6000                0.0       141.0             360.0   \n",
       "\n",
       "   Credit_History Property_Area Loan_Status  \n",
       "0             1.0         Urban           Y  \n",
       "1             1.0         Rural           N  \n",
       "2             1.0         Urban           Y  \n",
       "3             1.0         Urban           Y  \n",
       "4             1.0         Urban           Y  "
      ]
     },
     "execution_count": 3,
     "metadata": {},
     "output_type": "execute_result"
    }
   ],
   "source": [
    "train_dataset.head()"
   ]
  },
  {
   "cell_type": "code",
   "execution_count": 4,
   "metadata": {
    "collapsed": false
   },
   "outputs": [
    {
     "name": "stdout",
     "output_type": "stream",
     "text": [
      "<class 'pandas.core.frame.DataFrame'>\n",
      "RangeIndex: 614 entries, 0 to 613\n",
      "Data columns (total 13 columns):\n",
      "Loan_ID              614 non-null object\n",
      "Gender               601 non-null object\n",
      "Married              611 non-null object\n",
      "Dependents           599 non-null object\n",
      "Education            614 non-null object\n",
      "Self_Employed        582 non-null object\n",
      "ApplicantIncome      614 non-null int64\n",
      "CoapplicantIncome    614 non-null float64\n",
      "LoanAmount           592 non-null float64\n",
      "Loan_Amount_Term     600 non-null float64\n",
      "Credit_History       564 non-null float64\n",
      "Property_Area        614 non-null object\n",
      "Loan_Status          614 non-null object\n",
      "dtypes: float64(4), int64(1), object(8)\n",
      "memory usage: 62.4+ KB\n"
     ]
    }
   ],
   "source": [
    "train_dataset.info()"
   ]
  },
  {
   "cell_type": "code",
   "execution_count": 5,
   "metadata": {
    "collapsed": false
   },
   "outputs": [
    {
     "data": {
      "text/plain": [
       "Loan_ID               0\n",
       "Gender               13\n",
       "Married               3\n",
       "Dependents           15\n",
       "Education             0\n",
       "Self_Employed        32\n",
       "ApplicantIncome       0\n",
       "CoapplicantIncome     0\n",
       "LoanAmount           22\n",
       "Loan_Amount_Term     14\n",
       "Credit_History       50\n",
       "Property_Area         0\n",
       "Loan_Status           0\n",
       "dtype: int64"
      ]
     },
     "execution_count": 5,
     "metadata": {},
     "output_type": "execute_result"
    }
   ],
   "source": [
    "train_dataset.isnull().sum()"
   ]
  },
  {
   "cell_type": "code",
   "execution_count": 6,
   "metadata": {
    "collapsed": false
   },
   "outputs": [
    {
     "data": {
      "text/plain": [
       "Loan_ID                0\n",
       "Gender                11\n",
       "Married                0\n",
       "Dependents            10\n",
       "Education              0\n",
       "Self_Employed         23\n",
       "ApplicantIncome        0\n",
       "CoapplicantIncome      0\n",
       "LoanAmount             5\n",
       "Loan_Amount_Term       6\n",
       "Credit_History        29\n",
       "Property_Area          0\n",
       "Loan_Status          367\n",
       "dtype: int64"
      ]
     },
     "execution_count": 6,
     "metadata": {},
     "output_type": "execute_result"
    }
   ],
   "source": [
    "test_dataset.isnull().sum()"
   ]
  },
  {
   "cell_type": "code",
   "execution_count": 7,
   "metadata": {
    "collapsed": false
   },
   "outputs": [
    {
     "data": {
      "text/plain": [
       "(614, 13)"
      ]
     },
     "execution_count": 7,
     "metadata": {},
     "output_type": "execute_result"
    }
   ],
   "source": [
    "train_dataset.shape"
   ]
  },
  {
   "cell_type": "code",
   "execution_count": 8,
   "metadata": {
    "collapsed": false
   },
   "outputs": [
    {
     "data": {
      "text/plain": [
       "(367, 13)"
      ]
     },
     "execution_count": 8,
     "metadata": {},
     "output_type": "execute_result"
    }
   ],
   "source": [
    "test_dataset.shape"
   ]
  },
  {
   "cell_type": "markdown",
   "metadata": {},
   "source": [
    "### Handling Categorical data and Null Values\n",
    "* Replacing NaN values with Unknown for the columns: Gender,married,Graduate,Self-Employed,Preperty_Area,Dependents & Credit_History in Train and Test dataset.\n",
    "* Replacing NaN values with mean values for the columns: LoanAmount & Loan_Amount_Term"
   ]
  },
  {
   "cell_type": "code",
   "execution_count": 9,
   "metadata": {
    "collapsed": false
   },
   "outputs": [
    {
     "data": {
      "text/plain": [
       "0    0\n",
       "1    0\n",
       "2    0\n",
       "3    0\n",
       "4    0\n",
       "Name: Gender, dtype: object"
      ]
     },
     "execution_count": 9,
     "metadata": {},
     "output_type": "execute_result"
    }
   ],
   "source": [
    "#Replacing male with 0 and female with 1 for the column Gender\n",
    "train_dataset[\"Gender\"] = train_dataset[\"Gender\"].apply(lambda Gender: 0 if Gender == 'Male' else 1 if Gender == 'Female' else 'Unknown')\n",
    "test_dataset[\"Gender\"] = test_dataset[\"Gender\"].apply(lambda Gender: 0 if Gender == 'Male' else 1 if Gender == 'Female' else 'Unknown')\n",
    "train_dataset[\"Gender\"].head()"
   ]
  },
  {
   "cell_type": "code",
   "execution_count": 10,
   "metadata": {
    "collapsed": false
   },
   "outputs": [
    {
     "data": {
      "text/plain": [
       "0    0\n",
       "1    1\n",
       "2    1\n",
       "3    1\n",
       "4    0\n",
       "Name: Married, dtype: object"
      ]
     },
     "execution_count": 10,
     "metadata": {},
     "output_type": "execute_result"
    }
   ],
   "source": [
    "#Replacing Yes with 1 and No with 0 for the column Married\n",
    "train_dataset[\"Married\"] = train_dataset[\"Married\"].apply(lambda Married: 1 if Married == 'Yes' else 0 if Married == 'No' else 'Unknown')\n",
    "test_dataset[\"Married\"] = test_dataset[\"Married\"].apply(lambda Married: 1 if Married == 'Yes' else 0 if Married == 'No' else 'Unknown')\n",
    "train_dataset[\"Married\"].head()"
   ]
  },
  {
   "cell_type": "code",
   "execution_count": 11,
   "metadata": {
    "collapsed": false
   },
   "outputs": [
    {
     "data": {
      "text/plain": [
       "0    1\n",
       "1    1\n",
       "2    1\n",
       "3    0\n",
       "4    1\n",
       "Name: Education, dtype: int64"
      ]
     },
     "execution_count": 11,
     "metadata": {},
     "output_type": "execute_result"
    }
   ],
   "source": [
    "#Replacing Graduate with 1 and Not Graduate with 0 for the column Education\n",
    "train_dataset[\"Education\"] = train_dataset[\"Education\"].apply(lambda Education: 1 if Education == 'Graduate' else 0)\n",
    "test_dataset[\"Education\"] = test_dataset[\"Education\"].apply(lambda Education: 1 if Education == 'Graduate' else 0)\n",
    "train_dataset[\"Education\"].head()"
   ]
  },
  {
   "cell_type": "code",
   "execution_count": 12,
   "metadata": {
    "collapsed": false
   },
   "outputs": [
    {
     "data": {
      "text/plain": [
       "0    0\n",
       "1    0\n",
       "2    1\n",
       "3    0\n",
       "4    0\n",
       "Name: Self_Employed, dtype: object"
      ]
     },
     "execution_count": 12,
     "metadata": {},
     "output_type": "execute_result"
    }
   ],
   "source": [
    "#Replacing Yes with 1 and No with 0 for the column Self_Employed\n",
    "train_dataset[\"Self_Employed\"] = train_dataset[\"Self_Employed\"].apply(lambda Self_Employed: 1 if Self_Employed == 'Yes' else 0 if Self_Employed == 'No' else 'Unknown')\n",
    "test_dataset[\"Self_Employed\"] = test_dataset[\"Self_Employed\"].apply(lambda Self_Employed: 1 if Self_Employed == 'Yes' else 0 if Self_Employed == 'No' else 'Unknown')\n",
    "train_dataset[\"Self_Employed\"].head()"
   ]
  },
  {
   "cell_type": "code",
   "execution_count": 13,
   "metadata": {
    "collapsed": false
   },
   "outputs": [
    {
     "data": {
      "text/plain": [
       "0    2\n",
       "1    0\n",
       "2    2\n",
       "3    2\n",
       "4    2\n",
       "5    2\n",
       "6    2\n",
       "7    1\n",
       "8    2\n",
       "9    1\n",
       "Name: Property_Area, dtype: int64"
      ]
     },
     "execution_count": 13,
     "metadata": {},
     "output_type": "execute_result"
    }
   ],
   "source": [
    "#Replacing Rural with 0, Semiurban with 1 and Urban with 2 for the column Property_Area\n",
    "train_dataset[\"Property_Area\"] = train_dataset[\"Property_Area\"].apply(lambda Property_Area: 1 if Property_Area == 'Semiurban' else 2 if Property_Area == 'Urban' else 0)\n",
    "test_dataset[\"Property_Area\"] = test_dataset[\"Property_Area\"].apply(lambda Property_Area: 1 if Property_Area == 'Semiurban' else 2 if Property_Area == 'Urban' else 0)\n",
    "train_dataset[\"Property_Area\"].head(10)"
   ]
  },
  {
   "cell_type": "code",
   "execution_count": 14,
   "metadata": {
    "collapsed": false
   },
   "outputs": [
    {
     "data": {
      "text/plain": [
       "0    1\n",
       "1    0\n",
       "2    1\n",
       "3    1\n",
       "4    1\n",
       "Name: Loan_Status, dtype: int64"
      ]
     },
     "execution_count": 14,
     "metadata": {},
     "output_type": "execute_result"
    }
   ],
   "source": [
    "#Replacing Yes with 1 and No with 0 for the column Loan_Status\n",
    "train_dataset[\"Loan_Status\"] = train_dataset[\"Loan_Status\"].apply(lambda Loan_Status: 1 if Loan_Status == 'Y' else 0)\n",
    "train_dataset[\"Loan_Status\"].head()"
   ]
  },
  {
   "cell_type": "code",
   "execution_count": 15,
   "metadata": {
    "collapsed": false
   },
   "outputs": [
    {
     "data": {
      "text/plain": [
       "0    0\n",
       "1    1\n",
       "2    0\n",
       "3    0\n",
       "4    0\n",
       "Name: Dependents, dtype: object"
      ]
     },
     "execution_count": 15,
     "metadata": {},
     "output_type": "execute_result"
    }
   ],
   "source": [
    "#Replacing 0 with 0, 1 with 1 , 2 with 2 and 3+ with 3 for the column Dependents\n",
    "train_dataset[\"Dependents\"] = train_dataset[\"Dependents\"].apply(lambda Dependents: 1 if Dependents == '1' else 2 if Dependents == '2' else 3 if Dependents == '3+' else 0 if Dependents == '0' else 'Unknown')\n",
    "test_dataset[\"Dependents\"] = test_dataset[\"Dependents\"].apply(lambda Dependents: 1 if Dependents == '1' else 2 if Dependents == '2' else 3 if Dependents == '3+' else 0 if Dependents == '0' else 'Unknown')\n",
    "train_dataset[\"Dependents\"].head()"
   ]
  },
  {
   "cell_type": "code",
   "execution_count": 16,
   "metadata": {
    "collapsed": false
   },
   "outputs": [
    {
     "data": {
      "text/plain": [
       "0    1\n",
       "1    1\n",
       "2    1\n",
       "3    1\n",
       "4    1\n",
       "Name: Credit_History, dtype: object"
      ]
     },
     "execution_count": 16,
     "metadata": {},
     "output_type": "execute_result"
    }
   ],
   "source": [
    "# Changing Credit_History column to categorical\n",
    "train_dataset[\"Credit_History\"] = train_dataset[\"Credit_History\"].apply(lambda Credit_History: 1 if Credit_History == 1.0 else 0 if Credit_History == 0.0 else 'Unknown')\n",
    "test_dataset[\"Credit_History\"] = test_dataset[\"Credit_History\"].apply(lambda Credit_History: 1 if Credit_History == 1.0 else 0 if Credit_History == 0.0 else 'Unknown')\n",
    "train_dataset[\"Credit_History\"].head()"
   ]
  },
  {
   "cell_type": "code",
   "execution_count": 17,
   "metadata": {
    "collapsed": true
   },
   "outputs": [],
   "source": [
    "# replacing Null vales of LoanAmount and Loan_Amount_Term column\n",
    "\n",
    "train_dataset[\"Loan_Amount_Term\"] = train_dataset[\"Loan_Amount_Term\"].fillna(train_dataset[\"Loan_Amount_Term\"].mean())\n",
    "test_dataset[\"Loan_Amount_Term\"] = test_dataset[\"Loan_Amount_Term\"].fillna(test_dataset[\"Loan_Amount_Term\"].mean())\n",
    "train_dataset[\"LoanAmount\"] = train_dataset[\"LoanAmount\"].fillna(train_dataset[\"LoanAmount\"].mean())\n",
    "test_dataset[\"LoanAmount\"] = test_dataset[\"LoanAmount\"].fillna(test_dataset[\"LoanAmount\"].mean())"
   ]
  },
  {
   "cell_type": "code",
   "execution_count": 18,
   "metadata": {
    "collapsed": false
   },
   "outputs": [
    {
     "data": {
      "text/plain": [
       "Loan_ID                0\n",
       "Gender                 0\n",
       "Married                0\n",
       "Dependents             0\n",
       "Education              0\n",
       "Self_Employed          0\n",
       "ApplicantIncome        0\n",
       "CoapplicantIncome      0\n",
       "LoanAmount             0\n",
       "Loan_Amount_Term       0\n",
       "Credit_History         0\n",
       "Property_Area          0\n",
       "Loan_Status          367\n",
       "dtype: int64"
      ]
     },
     "execution_count": 18,
     "metadata": {},
     "output_type": "execute_result"
    }
   ],
   "source": [
    "test_dataset.isnull().sum()"
   ]
  },
  {
   "cell_type": "code",
   "execution_count": 19,
   "metadata": {
    "collapsed": false
   },
   "outputs": [
    {
     "data": {
      "text/plain": [
       "Loan_ID              0\n",
       "Gender               0\n",
       "Married              0\n",
       "Dependents           0\n",
       "Education            0\n",
       "Self_Employed        0\n",
       "ApplicantIncome      0\n",
       "CoapplicantIncome    0\n",
       "LoanAmount           0\n",
       "Loan_Amount_Term     0\n",
       "Credit_History       0\n",
       "Property_Area        0\n",
       "Loan_Status          0\n",
       "dtype: int64"
      ]
     },
     "execution_count": 19,
     "metadata": {},
     "output_type": "execute_result"
    }
   ],
   "source": [
    "train_dataset.isnull().sum()"
   ]
  },
  {
   "cell_type": "code",
   "execution_count": 20,
   "metadata": {
    "collapsed": false
   },
   "outputs": [],
   "source": [
    "train_dataset['income'] = train_dataset['ApplicantIncome'] + train_dataset['CoapplicantIncome']\n",
    "test_dataset['income'] = test_dataset['ApplicantIncome'] + test_dataset['CoapplicantIncome']"
   ]
  },
  {
   "cell_type": "code",
   "execution_count": 21,
   "metadata": {
    "collapsed": false
   },
   "outputs": [],
   "source": [
    "train_dataset.drop(['ApplicantIncome', 'CoapplicantIncome'],axis = 1, inplace = True )\n",
    "test_dataset.drop(['ApplicantIncome', 'CoapplicantIncome'],axis = 1, inplace = True )"
   ]
  },
  {
   "cell_type": "code",
   "execution_count": 22,
   "metadata": {
    "collapsed": false
   },
   "outputs": [],
   "source": [
    "train_dataset['EMI'] = (train_dataset['LoanAmount']*pow((9.5/12)+1,\n",
    "                                 (train_dataset['Loan_Amount_Term']))*9.5/12)/(pow(9.5/12+1,\n",
    "                                 (train_dataset['Loan_Amount_Term']) - 1))\n",
    "test_dataset['EMI'] = (test_dataset['LoanAmount']*pow((9.5/12)+1,\n",
    "                                 (test_dataset['Loan_Amount_Term']))*9.5/12)/(pow(9.5/12+1,\n",
    "                                 (test_dataset['Loan_Amount_Term']) - 1))"
   ]
  },
  {
   "cell_type": "code",
   "execution_count": 23,
   "metadata": {
    "collapsed": false
   },
   "outputs": [],
   "source": [
    "#EMI to income ratio\n",
    "train_dataset['Ratio'] = train_dataset['EMI']/train_dataset['income']\n",
    "test_dataset['Ratio'] = test_dataset['EMI']/test_dataset['income']"
   ]
  },
  {
   "cell_type": "code",
   "execution_count": 24,
   "metadata": {
    "collapsed": true
   },
   "outputs": [],
   "source": [
    "train_dataset.drop(['EMI'],axis = 1, inplace = True )\n",
    "test_dataset.drop(['EMI'],axis = 1, inplace = True )"
   ]
  },
  {
   "cell_type": "markdown",
   "metadata": {},
   "source": [
    "### Exploratory Data Analysis\n",
    "\n",
    "* Education & Applicant's Income are postively corelated with LoanAmount.\n",
    "* Property Area is postively corelated with Loan Status."
   ]
  },
  {
   "cell_type": "code",
   "execution_count": 25,
   "metadata": {
    "collapsed": false
   },
   "outputs": [
    {
     "data": {
      "text/html": [
       "<div>\n",
       "<table border=\"1\" class=\"dataframe\">\n",
       "  <thead>\n",
       "    <tr style=\"text-align: right;\">\n",
       "      <th></th>\n",
       "      <th>Education</th>\n",
       "      <th>LoanAmount</th>\n",
       "      <th>Loan_Amount_Term</th>\n",
       "      <th>Property_Area</th>\n",
       "      <th>Loan_Status</th>\n",
       "      <th>income</th>\n",
       "      <th>Ratio</th>\n",
       "    </tr>\n",
       "  </thead>\n",
       "  <tbody>\n",
       "    <tr>\n",
       "      <th>Education</th>\n",
       "      <td>1.000000</td>\n",
       "      <td>0.166998</td>\n",
       "      <td>0.077242</td>\n",
       "      <td>0.065243</td>\n",
       "      <td>0.085884</td>\n",
       "      <td>0.161362</td>\n",
       "      <td>-0.081314</td>\n",
       "    </tr>\n",
       "    <tr>\n",
       "      <th>LoanAmount</th>\n",
       "      <td>0.166998</td>\n",
       "      <td>1.000000</td>\n",
       "      <td>0.038801</td>\n",
       "      <td>-0.044776</td>\n",
       "      <td>-0.036416</td>\n",
       "      <td>0.620102</td>\n",
       "      <td>0.151715</td>\n",
       "    </tr>\n",
       "    <tr>\n",
       "      <th>Loan_Amount_Term</th>\n",
       "      <td>0.077242</td>\n",
       "      <td>0.038801</td>\n",
       "      <td>1.000000</td>\n",
       "      <td>-0.077620</td>\n",
       "      <td>-0.020974</td>\n",
       "      <td>-0.069830</td>\n",
       "      <td>0.163355</td>\n",
       "    </tr>\n",
       "    <tr>\n",
       "      <th>Property_Area</th>\n",
       "      <td>0.065243</td>\n",
       "      <td>-0.044776</td>\n",
       "      <td>-0.077620</td>\n",
       "      <td>1.000000</td>\n",
       "      <td>0.032112</td>\n",
       "      <td>-0.004218</td>\n",
       "      <td>-0.025239</td>\n",
       "    </tr>\n",
       "    <tr>\n",
       "      <th>Loan_Status</th>\n",
       "      <td>0.085884</td>\n",
       "      <td>-0.036416</td>\n",
       "      <td>-0.020974</td>\n",
       "      <td>0.032112</td>\n",
       "      <td>1.000000</td>\n",
       "      <td>-0.031271</td>\n",
       "      <td>-0.091635</td>\n",
       "    </tr>\n",
       "    <tr>\n",
       "      <th>income</th>\n",
       "      <td>0.161362</td>\n",
       "      <td>0.620102</td>\n",
       "      <td>-0.069830</td>\n",
       "      <td>-0.004218</td>\n",
       "      <td>-0.031271</td>\n",
       "      <td>1.000000</td>\n",
       "      <td>-0.386484</td>\n",
       "    </tr>\n",
       "    <tr>\n",
       "      <th>Ratio</th>\n",
       "      <td>-0.081314</td>\n",
       "      <td>0.151715</td>\n",
       "      <td>0.163355</td>\n",
       "      <td>-0.025239</td>\n",
       "      <td>-0.091635</td>\n",
       "      <td>-0.386484</td>\n",
       "      <td>1.000000</td>\n",
       "    </tr>\n",
       "  </tbody>\n",
       "</table>\n",
       "</div>"
      ],
      "text/plain": [
       "                  Education  LoanAmount  Loan_Amount_Term  Property_Area  \\\n",
       "Education          1.000000    0.166998          0.077242       0.065243   \n",
       "LoanAmount         0.166998    1.000000          0.038801      -0.044776   \n",
       "Loan_Amount_Term   0.077242    0.038801          1.000000      -0.077620   \n",
       "Property_Area      0.065243   -0.044776         -0.077620       1.000000   \n",
       "Loan_Status        0.085884   -0.036416         -0.020974       0.032112   \n",
       "income             0.161362    0.620102         -0.069830      -0.004218   \n",
       "Ratio             -0.081314    0.151715          0.163355      -0.025239   \n",
       "\n",
       "                  Loan_Status    income     Ratio  \n",
       "Education            0.085884  0.161362 -0.081314  \n",
       "LoanAmount          -0.036416  0.620102  0.151715  \n",
       "Loan_Amount_Term    -0.020974 -0.069830  0.163355  \n",
       "Property_Area        0.032112 -0.004218 -0.025239  \n",
       "Loan_Status          1.000000 -0.031271 -0.091635  \n",
       "income              -0.031271  1.000000 -0.386484  \n",
       "Ratio               -0.091635 -0.386484  1.000000  "
      ]
     },
     "execution_count": 25,
     "metadata": {},
     "output_type": "execute_result"
    }
   ],
   "source": [
    "train_dataset.corr()"
   ]
  },
  {
   "cell_type": "code",
   "execution_count": 26,
   "metadata": {
    "collapsed": false
   },
   "outputs": [
    {
     "data": {
      "text/html": [
       "<div>\n",
       "<table border=\"1\" class=\"dataframe\">\n",
       "  <thead>\n",
       "    <tr style=\"text-align: right;\">\n",
       "      <th></th>\n",
       "      <th>Education</th>\n",
       "      <th>LoanAmount</th>\n",
       "      <th>Loan_Amount_Term</th>\n",
       "      <th>Property_Area</th>\n",
       "      <th>Loan_Status</th>\n",
       "      <th>income</th>\n",
       "      <th>Ratio</th>\n",
       "    </tr>\n",
       "  </thead>\n",
       "  <tbody>\n",
       "    <tr>\n",
       "      <th>count</th>\n",
       "      <td>614.000000</td>\n",
       "      <td>614.000000</td>\n",
       "      <td>614.000000</td>\n",
       "      <td>614.000000</td>\n",
       "      <td>614.000000</td>\n",
       "      <td>614.000000</td>\n",
       "      <td>614.000000</td>\n",
       "    </tr>\n",
       "    <tr>\n",
       "      <th>mean</th>\n",
       "      <td>0.781759</td>\n",
       "      <td>146.412162</td>\n",
       "      <td>342.000000</td>\n",
       "      <td>1.037459</td>\n",
       "      <td>0.687296</td>\n",
       "      <td>7024.705081</td>\n",
       "      <td>0.034065</td>\n",
       "    </tr>\n",
       "    <tr>\n",
       "      <th>std</th>\n",
       "      <td>0.413389</td>\n",
       "      <td>84.037468</td>\n",
       "      <td>64.372489</td>\n",
       "      <td>0.787482</td>\n",
       "      <td>0.463973</td>\n",
       "      <td>6458.663872</td>\n",
       "      <td>0.012691</td>\n",
       "    </tr>\n",
       "    <tr>\n",
       "      <th>min</th>\n",
       "      <td>0.000000</td>\n",
       "      <td>9.000000</td>\n",
       "      <td>12.000000</td>\n",
       "      <td>0.000000</td>\n",
       "      <td>0.000000</td>\n",
       "      <td>1442.000000</td>\n",
       "      <td>0.003579</td>\n",
       "    </tr>\n",
       "    <tr>\n",
       "      <th>25%</th>\n",
       "      <td>1.000000</td>\n",
       "      <td>100.250000</td>\n",
       "      <td>360.000000</td>\n",
       "      <td>0.000000</td>\n",
       "      <td>0.000000</td>\n",
       "      <td>4166.000000</td>\n",
       "      <td>0.027462</td>\n",
       "    </tr>\n",
       "    <tr>\n",
       "      <th>50%</th>\n",
       "      <td>1.000000</td>\n",
       "      <td>129.000000</td>\n",
       "      <td>360.000000</td>\n",
       "      <td>1.000000</td>\n",
       "      <td>1.000000</td>\n",
       "      <td>5416.500000</td>\n",
       "      <td>0.034289</td>\n",
       "    </tr>\n",
       "    <tr>\n",
       "      <th>75%</th>\n",
       "      <td>1.000000</td>\n",
       "      <td>164.750000</td>\n",
       "      <td>360.000000</td>\n",
       "      <td>2.000000</td>\n",
       "      <td>1.000000</td>\n",
       "      <td>7521.750000</td>\n",
       "      <td>0.040205</td>\n",
       "    </tr>\n",
       "    <tr>\n",
       "      <th>max</th>\n",
       "      <td>1.000000</td>\n",
       "      <td>700.000000</td>\n",
       "      <td>480.000000</td>\n",
       "      <td>2.000000</td>\n",
       "      <td>1.000000</td>\n",
       "      <td>81000.000000</td>\n",
       "      <td>0.117318</td>\n",
       "    </tr>\n",
       "  </tbody>\n",
       "</table>\n",
       "</div>"
      ],
      "text/plain": [
       "        Education  LoanAmount  Loan_Amount_Term  Property_Area  Loan_Status  \\\n",
       "count  614.000000  614.000000        614.000000     614.000000   614.000000   \n",
       "mean     0.781759  146.412162        342.000000       1.037459     0.687296   \n",
       "std      0.413389   84.037468         64.372489       0.787482     0.463973   \n",
       "min      0.000000    9.000000         12.000000       0.000000     0.000000   \n",
       "25%      1.000000  100.250000        360.000000       0.000000     0.000000   \n",
       "50%      1.000000  129.000000        360.000000       1.000000     1.000000   \n",
       "75%      1.000000  164.750000        360.000000       2.000000     1.000000   \n",
       "max      1.000000  700.000000        480.000000       2.000000     1.000000   \n",
       "\n",
       "             income       Ratio  \n",
       "count    614.000000  614.000000  \n",
       "mean    7024.705081    0.034065  \n",
       "std     6458.663872    0.012691  \n",
       "min     1442.000000    0.003579  \n",
       "25%     4166.000000    0.027462  \n",
       "50%     5416.500000    0.034289  \n",
       "75%     7521.750000    0.040205  \n",
       "max    81000.000000    0.117318  "
      ]
     },
     "execution_count": 26,
     "metadata": {},
     "output_type": "execute_result"
    }
   ],
   "source": [
    "train_dataset.describe()"
   ]
  },
  {
   "cell_type": "markdown",
   "metadata": {},
   "source": [
    "#### Loan Approval Analysis w.r.t to total income"
   ]
  },
  {
   "cell_type": "code",
   "execution_count": 27,
   "metadata": {
    "collapsed": false
   },
   "outputs": [
    {
     "data": {
      "text/plain": [
       "(0, 20000)"
      ]
     },
     "execution_count": 27,
     "metadata": {},
     "output_type": "execute_result"
    },
    {
     "data": {
      "image/png": "[encoded data removed]",
      "text/plain": [
       "<matplotlib.figure.Figure at 0xba33c18>"
      ]
     },
     "metadata": {},
     "output_type": "display_data"
    }
   ],
   "source": [
    "train_dataset.boxplot(column = \"income\",by =\"Loan_Status\")\n",
    "plt.ylim(0, 20000)"
   ]
  },
  {
   "cell_type": "markdown",
   "metadata": {},
   "source": [
    "#### Loan Approval Analysis w.r.t to EMI to income ratio"
   ]
  },
  {
   "cell_type": "code",
   "execution_count": 28,
   "metadata": {
    "collapsed": false
   },
   "outputs": [
    {
     "data": {
      "text/plain": [
       "(0.0, 0.07)"
      ]
     },
     "execution_count": 28,
     "metadata": {},
     "output_type": "execute_result"
    },
    {
     "data": {
      "image/png": "[encoded data removed]",
      "text/plain": [
       "<matplotlib.figure.Figure at 0xbc7c828>"
      ]
     },
     "metadata": {},
     "output_type": "display_data"
    }
   ],
   "source": [
    "train_dataset.boxplot(column = \"Ratio\",by =\"Loan_Status\")\n",
    "plt.ylim(0.0, 0.07)"
   ]
  },
  {
   "cell_type": "markdown",
   "metadata": {},
   "source": [
    "#### Gender Analysis w.r.t Loan Approval"
   ]
  },
  {
   "cell_type": "code",
   "execution_count": 29,
   "metadata": {
    "collapsed": false
   },
   "outputs": [
    {
     "data": {
      "text/plain": [
       "<matplotlib.axes._subplots.AxesSubplot at 0xbcbd710>"
      ]
     },
     "execution_count": 29,
     "metadata": {},
     "output_type": "execute_result"
    },
    {
     "data": {
      "image/png": "[encoded data removed]",
      "text/plain": [
       "<matplotlib.figure.Figure at 0xa9ea860>"
      ]
     },
     "metadata": {},
     "output_type": "display_data"
    }
   ],
   "source": [
    "sns.countplot(x=\"Gender\", data=train_dataset, palette=\"Blues_d\")"
   ]
  },
  {
   "cell_type": "code",
   "execution_count": 30,
   "metadata": {
    "collapsed": false
   },
   "outputs": [
    {
     "name": "stdout",
     "output_type": "stream",
     "text": [
      "Approval percentage Male:  69.3251533742\n",
      "Approval percentage Female:  66.9642857143\n"
     ]
    }
   ],
   "source": [
    "gender_grp = train_dataset.Loan_Status.groupby([train_dataset.Gender,train_dataset.Loan_Status])\n",
    "gender_size = gender_grp.size()\n",
    "Approve_loan_male = (gender_size[0][1]/(gender_size[0][1] + gender_size[0][0]))*100\n",
    "Approve_loan_female = (gender_size[1][1]/(gender_size[1][1] + gender_size[1][0]))*100\n",
    "d = {'Gender' : pd.Series([Approve_loan_male, Approve_loan_female], \n",
    "                                     index =['Approve_loan_male', 'Approve_loan_female'])}\n",
    "loan = pd.DataFrame(d)\n",
    "print(\"Approval percentage Male: \", Approve_loan_male)\n",
    "print(\"Approval percentage Female: \", Approve_loan_female)"
   ]
  },
  {
   "cell_type": "code",
   "execution_count": 31,
   "metadata": {
    "collapsed": false
   },
   "outputs": [
    {
     "data": {
      "image/png": "[encoded data removed]",
      "text/plain": [
       "<matplotlib.figure.Figure at 0xbd84748>"
      ]
     },
     "metadata": {},
     "output_type": "display_data"
    }
   ],
   "source": [
    "#Plotting Loan approval Percentage\n",
    "loan.plot(kind='bar', stacked=False, figsize=[10,6], width = 0.2, cmap= plt.cm.summer)\n",
    "plt.ylabel('Total Loan Percentage')\n",
    "plt.title('Loan Approval % w.r.t Gender')\n",
    "plt.show()"
   ]
  },
  {
   "cell_type": "markdown",
   "metadata": {},
   "source": [
    "#### Marital Status Analysis w.r.t Loan Approval"
   ]
  },
  {
   "cell_type": "code",
   "execution_count": 32,
   "metadata": {
    "collapsed": false
   },
   "outputs": [
    {
     "data": {
      "text/plain": [
       "<matplotlib.axes._subplots.AxesSubplot at 0xbe8a898>"
      ]
     },
     "execution_count": 32,
     "metadata": {},
     "output_type": "execute_result"
    },
    {
     "data": {
      "image/png": "[encoded data removed]",
      "text/plain": [
       "<matplotlib.figure.Figure at 0xbdf1b38>"
      ]
     },
     "metadata": {},
     "output_type": "display_data"
    }
   ],
   "source": [
    "sns.countplot(x=\"Married\", data=train_dataset, palette=\"Blues_d\")"
   ]
  },
  {
   "cell_type": "code",
   "execution_count": 33,
   "metadata": {
    "collapsed": false
   },
   "outputs": [
    {
     "name": "stdout",
     "output_type": "stream",
     "text": [
      "Approval percentage Married:  71.608040201\n",
      "Approval percentage Unmarried:  62.9107981221\n"
     ]
    }
   ],
   "source": [
    "mrg_grp = train_dataset.Married.groupby([train_dataset.Married,train_dataset.Loan_Status])\n",
    "mrg_size = mrg_grp.size()\n",
    "Approve_loan_unmarried = (mrg_size[0][1]/(mrg_size[0][1] + mrg_size[0][0]))*100\n",
    "Approve_loan_married = (mrg_size[1][1]/(mrg_size[1][1] + mrg_size[1][0]))*100\n",
    "d = {'Marital Status' : pd.Series([Approve_loan_married, Approve_loan_unmarried], \n",
    "                          index = ['Approve_loan_married', 'Approve_loan_unmarried'])}\n",
    "loan = pd.DataFrame(d)\n",
    "print(\"Approval percentage Married: \", Approve_loan_married)\n",
    "print(\"Approval percentage Unmarried: \", Approve_loan_unmarried)"
   ]
  },
  {
   "cell_type": "code",
   "execution_count": 34,
   "metadata": {
    "collapsed": false
   },
   "outputs": [
    {
     "data": {
      "image/png": "[encoded data removed]",
      "text/plain": [
       "<matplotlib.figure.Figure at 0xbf341d0>"
      ]
     },
     "metadata": {},
     "output_type": "display_data"
    }
   ],
   "source": [
    "#Plotting Loan approval Percentage\n",
    "loan.plot(kind='bar', stacked=False, figsize=[10,6], width = 0.2, cmap= plt.cm.summer)\n",
    "plt.ylabel('Total Loan Percentage')\n",
    "plt.title('Loan Approval% w.r.t Marital Status')\n",
    "plt.show()"
   ]
  },
  {
   "cell_type": "markdown",
   "metadata": {},
   "source": [
    "#### Employment Analysis w.r.t Loan Approval"
   ]
  },
  {
   "cell_type": "code",
   "execution_count": 35,
   "metadata": {
    "collapsed": false
   },
   "outputs": [
    {
     "data": {
      "text/plain": [
       "<matplotlib.axes._subplots.AxesSubplot at 0xbfc2d68>"
      ]
     },
     "execution_count": 35,
     "metadata": {},
     "output_type": "execute_result"
    },
    {
     "data": {
      "image/png": "[encoded data removed]",
      "text/plain": [
       "<matplotlib.figure.Figure at 0xbca73c8>"
      ]
     },
     "metadata": {},
     "output_type": "display_data"
    }
   ],
   "source": [
    "sns.countplot(x=\"Self_Employed\", data=train_dataset, palette=\"Blues_d\")"
   ]
  },
  {
   "cell_type": "code",
   "execution_count": 36,
   "metadata": {
    "collapsed": false
   },
   "outputs": [
    {
     "name": "stdout",
     "output_type": "stream",
     "text": [
      "Approval percentage Self_Employed:  68.2926829268\n",
      "Approval percentage Not_Self_Employed:  68.6\n"
     ]
    }
   ],
   "source": [
    "emp_grp = train_dataset.Self_Employed.groupby([train_dataset.Self_Employed,train_dataset.Loan_Status])\n",
    "emp_size = emp_grp.size()\n",
    "Approve_loan_SE = (emp_size[1][1]/(emp_size[1][1] + emp_size[1][0]))*100\n",
    "Approve_loan_NSE = (emp_size[0][1]/(emp_size[0][1] + emp_size[0][0]))*100\n",
    "d = {'Employment' : pd.Series([Approve_loan_SE, Approve_loan_NSE], \n",
    "                                index = ['Self-Emplyeed', 'Not-Self-Employeed'])}\n",
    "loan = pd.DataFrame(d)\n",
    "print(\"Approval percentage Self_Employed: \", Approve_loan_SE)\n",
    "print(\"Approval percentage Not_Self_Employed: \", Approve_loan_NSE)"
   ]
  },
  {
   "cell_type": "code",
   "execution_count": 37,
   "metadata": {
    "collapsed": false
   },
   "outputs": [
    {
     "data": {
      "image/png": "[encoded data removed]",
      "text/plain": [
       "<matplotlib.figure.Figure at 0xbd95668>"
      ]
     },
     "metadata": {},
     "output_type": "display_data"
    }
   ],
   "source": [
    "#Plotting Loan approval Percentage\n",
    "loan.plot(kind='bar', stacked=False, figsize=[10,6], width = 0.2, cmap= plt.cm.summer)\n",
    "plt.ylabel('Total Loan Percentage')\n",
    "plt.title('Loan Approval% w.r.t Employement')\n",
    "plt.show()"
   ]
  },
  {
   "cell_type": "markdown",
   "metadata": {},
   "source": [
    "#### Education Analysis w.r.t Loan Approval"
   ]
  },
  {
   "cell_type": "code",
   "execution_count": 38,
   "metadata": {
    "collapsed": false
   },
   "outputs": [
    {
     "data": {
      "text/plain": [
       "<matplotlib.axes._subplots.AxesSubplot at 0xc23b0f0>"
      ]
     },
     "execution_count": 38,
     "metadata": {},
     "output_type": "execute_result"
    },
    {
     "data": {
      "image/png": "[encoded data removed]",
      "text/plain": [
       "<matplotlib.figure.Figure at 0xbc7cc88>"
      ]
     },
     "metadata": {},
     "output_type": "display_data"
    }
   ],
   "source": [
    "sns.countplot(x=\"Education\", data=train_dataset, palette=\"Blues_d\")"
   ]
  },
  {
   "cell_type": "code",
   "execution_count": 39,
   "metadata": {
    "collapsed": false
   },
   "outputs": [
    {
     "name": "stdout",
     "output_type": "stream",
     "text": [
      "Approval percentage graduate:  70.8333333333\n",
      "Approval percentage undergraduate:  61.1940298507\n"
     ]
    }
   ],
   "source": [
    "edu_grp = train_dataset.Education.groupby([train_dataset.Education,train_dataset.Loan_Status])\n",
    "edu_size = edu_grp.size()\n",
    "Approve_loan_undergraduate= (edu_size[0][1]/(edu_size[0][1] + edu_size[0][0]))*100\n",
    "Approve_loan_graduate = (edu_size[1][1]/(edu_size[1][1] + edu_size[1][0]))*100\n",
    "d = {'Education' : pd.Series([Approve_loan_graduate, Approve_loan_undergraduate], \n",
    "                            index =['Graduate', 'Undergraduate'])}\n",
    "loan = pd.DataFrame(d)\n",
    "print(\"Approval percentage graduate: \", Approve_loan_graduate)\n",
    "print(\"Approval percentage undergraduate: \", Approve_loan_undergraduate)"
   ]
  },
  {
   "cell_type": "code",
   "execution_count": 40,
   "metadata": {
    "collapsed": false
   },
   "outputs": [
    {
     "data": {
      "image/png": "[encoded data removed]",
      "text/plain": [
       "<matplotlib.figure.Figure at 0xc14d128>"
      ]
     },
     "metadata": {},
     "output_type": "display_data"
    }
   ],
   "source": [
    "#Plotting Loan approval Percentage\n",
    "loan.plot(kind='bar', stacked=False, figsize=[10,6], width = 0.2, cmap= plt.cm.summer)\n",
    "plt.ylabel('Total Loan Percentage')\n",
    "plt.title('Loan Approval% w.r.t Education')\n",
    "plt.show()"
   ]
  },
  {
   "cell_type": "markdown",
   "metadata": {},
   "source": [
    "#### Dependents Analysis w.r.t Loan Approval"
   ]
  },
  {
   "cell_type": "code",
   "execution_count": 41,
   "metadata": {
    "collapsed": false
   },
   "outputs": [
    {
     "data": {
      "text/plain": [
       "<matplotlib.axes._subplots.AxesSubplot at 0xbe7d7f0>"
      ]
     },
     "execution_count": 41,
     "metadata": {},
     "output_type": "execute_result"
    },
    {
     "data": {
      "image/png": "[encoded data removed]",
      "text/plain": [
       "<matplotlib.figure.Figure at 0xc1fd358>"
      ]
     },
     "metadata": {},
     "output_type": "display_data"
    }
   ],
   "source": [
    "sns.countplot(x=\"Dependents\", data=train_dataset, palette=\"Blues_d\")"
   ]
  },
  {
   "cell_type": "code",
   "execution_count": 42,
   "metadata": {
    "collapsed": false
   },
   "outputs": [
    {
     "name": "stdout",
     "output_type": "stream",
     "text": [
      "Approval percentage Nodependents:  68.9855072464\n",
      "Approval percentage onedependent:  64.7058823529\n",
      "Approval percentage twodependent:  75.2475247525\n",
      "Approval percentage threedependent: 64.7058823529\n"
     ]
    }
   ],
   "source": [
    "dep_grp = train_dataset.Dependents.groupby([train_dataset.Dependents,train_dataset.Loan_Status])\n",
    "dep_size = dep_grp.size()\n",
    "Approve_loan_nodep= (dep_size[0][1]/(dep_size[0][1] + dep_size[0][0]))*100\n",
    "Approve_loan_onedep= (dep_size[1][1]/(dep_size[1][1] + dep_size[1][0]))*100\n",
    "Approve_loan_twodep= (dep_size[2][1]/(dep_size[2][1] + dep_size[2][0]))*100\n",
    "Approve_loan_threedep= (dep_size[3][1]/(dep_size[3][1] + dep_size[3][0]))*100\n",
    "d = {'Dependents' : pd.Series([Approve_loan_nodep, Approve_loan_onedep, Approve_loan_twodep, Approve_loan_threedep], \n",
    "                             index =['0','1','2','3+'])}\n",
    "loan = pd.DataFrame(d)\n",
    "print(\"Approval percentage Nodependents: \", Approve_loan_nodep)\n",
    "print(\"Approval percentage onedependent: \", Approve_loan_onedep)\n",
    "print(\"Approval percentage twodependent: \", Approve_loan_twodep)\n",
    "print(\"Approval percentage threedependent:\", Approve_loan_threedep)"
   ]
  },
  {
   "cell_type": "code",
   "execution_count": 43,
   "metadata": {
    "collapsed": false
   },
   "outputs": [
    {
     "data": {
      "image/png": "[encoded data removed]",
      "text/plain": [
       "<matplotlib.figure.Figure at 0xbe94be0>"
      ]
     },
     "metadata": {},
     "output_type": "display_data"
    }
   ],
   "source": [
    "#Plotting Loan approval Percentage\n",
    "loan.plot(kind='bar', stacked=False, figsize=[10,6], width = 0.2, cmap= plt.cm.summer)\n",
    "plt.ylabel('Total Loan Percentage')\n",
    "plt.title('Loan Approval% w.r.t Dependents')\n",
    "plt.show()"
   ]
  },
  {
   "cell_type": "markdown",
   "metadata": {},
   "source": [
    "#### Property Type Analysis w.r.t Loan Approval"
   ]
  },
  {
   "cell_type": "code",
   "execution_count": 44,
   "metadata": {
    "collapsed": false
   },
   "outputs": [
    {
     "data": {
      "text/plain": [
       "<matplotlib.axes._subplots.AxesSubplot at 0xbb987f0>"
      ]
     },
     "execution_count": 44,
     "metadata": {},
     "output_type": "execute_result"
    },
    {
     "data": {
      "image/png": "[encoded data removed]",
      "text/plain": [
       "<matplotlib.figure.Figure at 0x8834828>"
      ]
     },
     "metadata": {},
     "output_type": "display_data"
    }
   ],
   "source": [
    "sns.countplot(x=\"Property_Area\", data=train_dataset, palette=\"Blues_d\")"
   ]
  },
  {
   "cell_type": "code",
   "execution_count": 45,
   "metadata": {
    "collapsed": false
   },
   "outputs": [
    {
     "name": "stdout",
     "output_type": "stream",
     "text": [
      "Approval percentage Rural:  61.4525139665\n",
      "Approval percentage Semiurban:  76.8240343348\n",
      "Approval percentage Urban:  65.8415841584\n"
     ]
    }
   ],
   "source": [
    "prop_grp = train_dataset.Property_Area.groupby([train_dataset.Property_Area,train_dataset.Loan_Status])\n",
    "prop_size = prop_grp.size()\n",
    "Approve_loan_rural= (prop_size[0][1]/(prop_size[0][1] + prop_size[0][0]))*100\n",
    "Approve_loan_semiurban= (prop_size[1][1]/(prop_size[1][1] + prop_size[1][0]))*100\n",
    "Approve_loan_urban= (prop_size[2][1]/(prop_size[2][1] + prop_size[2][0]))*100\n",
    "d = {'Property Type' : pd.Series([Approve_loan_rural, Approve_loan_semiurban,Approve_loan_urban], \n",
    "                             index =['Rural','Semiurban','Urban'])}\n",
    "loan = pd.DataFrame(d)\n",
    "print(\"Approval percentage Rural: \", Approve_loan_rural)\n",
    "print(\"Approval percentage Semiurban: \", Approve_loan_semiurban)\n",
    "print(\"Approval percentage Urban: \", Approve_loan_urban)"
   ]
  },
  {
   "cell_type": "code",
   "execution_count": 46,
   "metadata": {
    "collapsed": false
   },
   "outputs": [
    {
     "data": {
      "image/png": "[encoded data removed]",
      "text/plain": [
       "<matplotlib.figure.Figure at 0xbfc2d30>"
      ]
     },
     "metadata": {},
     "output_type": "display_data"
    }
   ],
   "source": [
    "#Plotting Loan approval Percentage\n",
    "loan.plot(kind='bar', stacked=False, figsize=[10,6], width = 0.2, cmap= plt.cm.summer)\n",
    "plt.ylabel('Total Loan Percentage')\n",
    "plt.title('Loan Approval% w.r.t Property Type')\n",
    "plt.show()"
   ]
  },
  {
   "cell_type": "markdown",
   "metadata": {},
   "source": [
    "#### Loan Approval Analysis w.r.t Credit History"
   ]
  },
  {
   "cell_type": "code",
   "execution_count": 47,
   "metadata": {
    "collapsed": false
   },
   "outputs": [
    {
     "data": {
      "text/plain": [
       "<matplotlib.axes._subplots.AxesSubplot at 0xc3cea20>"
      ]
     },
     "execution_count": 47,
     "metadata": {},
     "output_type": "execute_result"
    },
    {
     "data": {
      "image/png": "[encoded data removed]",
      "text/plain": [
       "<matplotlib.figure.Figure at 0xbca7e10>"
      ]
     },
     "metadata": {},
     "output_type": "display_data"
    }
   ],
   "source": [
    "sns.countplot(x=\"Credit_History\", data=train_dataset, palette=\"Blues_d\")"
   ]
  },
  {
   "cell_type": "code",
   "execution_count": 48,
   "metadata": {
    "collapsed": false
   },
   "outputs": [
    {
     "name": "stdout",
     "output_type": "stream",
     "text": [
      "Approval percentage with Credit History:  79.5789473684\n",
      "Approval percentage without Credit History:  7.86516853933\n"
     ]
    }
   ],
   "source": [
    "crd_grp = train_dataset.Credit_History.groupby([train_dataset.Credit_History,train_dataset.Loan_Status])\n",
    "crd_size = crd_grp.size()\n",
    "Approve_loan_without_CH= (crd_size[0][1]/(crd_size[0][1] + crd_size[0][0]))*100\n",
    "Approve_loan_with_CH= (crd_size[1][1]/(crd_size[1][1] + crd_size[1][0]))*100\n",
    "d = {'Credit History' : pd.Series([Approve_loan_with_CH, Approve_loan_without_CH], \n",
    "                             index =['Credit History_Yes','Credit History_No'])}\n",
    "loan = pd.DataFrame(d)\n",
    "print(\"Approval percentage with Credit History: \", Approve_loan_with_CH)\n",
    "print(\"Approval percentage without Credit History: \", Approve_loan_without_CH)"
   ]
  },
  {
   "cell_type": "markdown",
   "metadata": {},
   "source": [
    "### Handling Categorical variables"
   ]
  },
  {
   "cell_type": "code",
   "execution_count": 49,
   "metadata": {
    "collapsed": false
   },
   "outputs": [
    {
     "data": {
      "image/png": "[encoded data removed]",
      "text/plain": [
       "<matplotlib.figure.Figure at 0xc3ebda0>"
      ]
     },
     "metadata": {},
     "output_type": "display_data"
    }
   ],
   "source": [
    "#Plotting Loan approval Percentage\n",
    "loan.plot(kind='bar', stacked=False, figsize=[10,6], width = 0.2, cmap= plt.cm.summer)\n",
    "plt.ylabel('Total Loan Percentage')\n",
    "plt.title('Loan Approval% w.r.t Credit History')\n",
    "plt.show()"
   ]
  },
  {
   "cell_type": "code",
   "execution_count": 50,
   "metadata": {
    "collapsed": false
   },
   "outputs": [],
   "source": [
    "cat_cols = ['Gender', 'Married', 'Dependents', 'Self_Employed', 'Credit_History', 'Property_Area']\n",
    "dummy_df = pd.DataFrame()\n",
    "for i in cat_cols:\n",
    "    i_dummies = pd.get_dummies(train_dataset[i], prefix = i)\n",
    "    j = len(i_dummies.columns)\n",
    "    i_dummies.drop(i_dummies.columns[j-1], axis = 1, inplace = True)\n",
    "    train_dataset = pd.concat([train_dataset, i_dummies], axis = 1)\n"
   ]
  },
  {
   "cell_type": "code",
   "execution_count": 51,
   "metadata": {
    "collapsed": false
   },
   "outputs": [],
   "source": [
    "# Dropping original columns from train dataset\n",
    "train_dataset.drop(['Gender', 'Married', 'Dependents', 'Self_Employed', 'Credit_History', 'Property_Area'],\n",
    "                   axis = 1, inplace = True )"
   ]
  },
  {
   "cell_type": "code",
   "execution_count": 52,
   "metadata": {
    "collapsed": false
   },
   "outputs": [
    {
     "name": "stdout",
     "output_type": "stream",
     "text": [
      "<class 'pandas.core.frame.DataFrame'>\n",
      "RangeIndex: 614 entries, 0 to 613\n",
      "Data columns (total 21 columns):\n",
      "Loan_ID             614 non-null object\n",
      "Education           614 non-null int64\n",
      "LoanAmount          614 non-null float64\n",
      "Loan_Amount_Term    614 non-null float64\n",
      "Loan_Status         614 non-null int64\n",
      "income              614 non-null float64\n",
      "Ratio               614 non-null float64\n",
      "Gender_0            614 non-null uint8\n",
      "Gender_1            614 non-null uint8\n",
      "Married_0           614 non-null uint8\n",
      "Married_1           614 non-null uint8\n",
      "Dependents_0        614 non-null uint8\n",
      "Dependents_1        614 non-null uint8\n",
      "Dependents_2        614 non-null uint8\n",
      "Dependents_3        614 non-null uint8\n",
      "Self_Employed_0     614 non-null uint8\n",
      "Self_Employed_1     614 non-null uint8\n",
      "Credit_History_0    614 non-null uint8\n",
      "Credit_History_1    614 non-null uint8\n",
      "Property_Area_0     614 non-null uint8\n",
      "Property_Area_1     614 non-null uint8\n",
      "dtypes: float64(4), int64(2), object(1), uint8(14)\n",
      "memory usage: 42.1+ KB\n"
     ]
    }
   ],
   "source": [
    "train_dataset.info()"
   ]
  },
  {
   "cell_type": "code",
   "execution_count": 53,
   "metadata": {
    "collapsed": true
   },
   "outputs": [],
   "source": [
    "#Rearranging the columns of the dataset\n",
    "train_dataset = train_dataset[['Loan_ID','Education','income','Ratio','LoanAmount','Loan_Amount_Term',\n",
    "                              'Gender_0','Gender_1','Married_0','Married_1', 'Dependents_0','Dependents_1','Dependents_2',\n",
    "                              'Dependents_3','Self_Employed_0','Self_Employed_1','Credit_History_0','Credit_History_1',\n",
    "                              'Property_Area_0','Property_Area_1', 'Loan_Status']]"
   ]
  },
  {
   "cell_type": "code",
   "execution_count": 54,
   "metadata": {
    "collapsed": true
   },
   "outputs": [],
   "source": [
    "cat_cols = ['Gender', 'Dependents', 'Self_Employed', 'Credit_History', 'Property_Area']\n",
    "dummy_df = pd.DataFrame()\n",
    "for i in cat_cols:\n",
    "    i_dummies = pd.get_dummies(test_dataset[i], prefix = i)\n",
    "    j = len(i_dummies.columns)\n",
    "    i_dummies.drop(i_dummies.columns[j-1], axis = 1, inplace = True)\n",
    "    test_dataset = pd.concat([test_dataset, i_dummies], axis = 1)"
   ]
  },
  {
   "cell_type": "code",
   "execution_count": 55,
   "metadata": {
    "collapsed": true
   },
   "outputs": [],
   "source": [
    "# encoding for Married column to keep the features same in both train and test dataset.\n",
    "Married_dummies = pd.get_dummies(test_dataset.Married, prefix='Married')\n",
    "test_dataset = pd.concat([test_dataset, Married_dummies], axis = 1)"
   ]
  },
  {
   "cell_type": "code",
   "execution_count": 56,
   "metadata": {
    "collapsed": false
   },
   "outputs": [],
   "source": [
    "# Dropping original columns from test dataset\n",
    "test_dataset.drop(['Gender', 'Married', 'Dependents', 'Self_Employed', 'Credit_History', 'Property_Area'],\n",
    "                   axis = 1, inplace = True )"
   ]
  },
  {
   "cell_type": "code",
   "execution_count": 57,
   "metadata": {
    "collapsed": false
   },
   "outputs": [
    {
     "name": "stdout",
     "output_type": "stream",
     "text": [
      "<class 'pandas.core.frame.DataFrame'>\n",
      "RangeIndex: 367 entries, 0 to 366\n",
      "Data columns (total 21 columns):\n",
      "Loan_ID             367 non-null object\n",
      "Education           367 non-null int64\n",
      "LoanAmount          367 non-null float64\n",
      "Loan_Amount_Term    367 non-null float64\n",
      "Loan_Status         0 non-null float64\n",
      "income              367 non-null int64\n",
      "Ratio               367 non-null float64\n",
      "Gender_0            367 non-null uint8\n",
      "Gender_1            367 non-null uint8\n",
      "Dependents_0        367 non-null uint8\n",
      "Dependents_1        367 non-null uint8\n",
      "Dependents_2        367 non-null uint8\n",
      "Dependents_3        367 non-null uint8\n",
      "Self_Employed_0     367 non-null uint8\n",
      "Self_Employed_1     367 non-null uint8\n",
      "Credit_History_0    367 non-null uint8\n",
      "Credit_History_1    367 non-null uint8\n",
      "Property_Area_0     367 non-null uint8\n",
      "Property_Area_1     367 non-null uint8\n",
      "Married_0           367 non-null uint8\n",
      "Married_1           367 non-null uint8\n",
      "dtypes: float64(4), int64(2), object(1), uint8(14)\n",
      "memory usage: 25.2+ KB\n"
     ]
    }
   ],
   "source": [
    "test_dataset.info()"
   ]
  },
  {
   "cell_type": "code",
   "execution_count": 58,
   "metadata": {
    "collapsed": false
   },
   "outputs": [],
   "source": [
    "#Rearranging the columns of the dataset\n",
    "test_dataset = test_dataset[['Loan_ID','Education','income','Ratio','LoanAmount','Loan_Amount_Term',\n",
    "                              'Gender_0','Gender_1','Married_0','Married_1', 'Dependents_0','Dependents_1','Dependents_2',\n",
    "                              'Dependents_3','Self_Employed_0','Self_Employed_1','Credit_History_0','Credit_History_1',\n",
    "                              'Property_Area_0','Property_Area_1', 'Loan_Status']]"
   ]
  },
  {
   "cell_type": "code",
   "execution_count": 59,
   "metadata": {
    "collapsed": true
   },
   "outputs": [],
   "source": [
    "#Defining dependent and independent variables\n",
    "x_train = train_dataset.iloc[:, 1:-1]\n",
    "y_train = train_dataset.iloc[:, 20]\n",
    "x_test = test_dataset.iloc[:, 1:-1]\n",
    "y_test = test_dataset.iloc[:, 20]"
   ]
  },
  {
   "cell_type": "markdown",
   "metadata": {},
   "source": [
    "### Standardising the data"
   ]
  },
  {
   "cell_type": "code",
   "execution_count": 60,
   "metadata": {
    "collapsed": false
   },
   "outputs": [],
   "source": [
    "sc = StandardScaler()\n",
    "x_train = sc.fit_transform(x_train)\n",
    "x_test = sc.fit_transform(x_test)"
   ]
  },
  {
   "cell_type": "markdown",
   "metadata": {},
   "source": [
    "The below models will be validated to select the best Machine Learning Model.\n",
    "                        1. Logistic Regression\n",
    "                        2. Decision Tree\n",
    "                        3. Random Forest\n",
    "                        4. KNN\n",
    "                        5. SVM"
   ]
  },
  {
   "cell_type": "markdown",
   "metadata": {},
   "source": [
    "### Logistic Regression"
   ]
  },
  {
   "cell_type": "code",
   "execution_count": 61,
   "metadata": {
    "collapsed": false
   },
   "outputs": [
    {
     "data": {
      "text/plain": [
       "GridSearchCV(cv=10, error_score='raise',\n",
       "       estimator=LogisticRegression(C=1.0, class_weight=None, dual=False, fit_intercept=True,\n",
       "          intercept_scaling=1, max_iter=100, multi_class='ovr', n_jobs=1,\n",
       "          penalty='l2', random_state=None, solver='liblinear', tol=0.0001,\n",
       "          verbose=0, warm_start=False),\n",
       "       fit_params={}, iid=True, n_jobs=1,\n",
       "       param_grid={'C': [0.001, 0.01, 0.1, 1, 10, 100, 1000], 'penalty': ['l1', 'l2']},\n",
       "       pre_dispatch='2*n_jobs', refit=True, return_train_score=True,\n",
       "       scoring=None, verbose=0)"
      ]
     },
     "execution_count": 61,
     "metadata": {},
     "output_type": "execute_result"
    }
   ],
   "source": [
    "#Performing Grid Search\n",
    "tuned_parameters = {'C': [0.001, 0.01, 0.1, 1, 10, 100, 1000] ,\n",
    "              'penalty':['l1','l2']\n",
    "                   }\n",
    "LR_model= LogisticRegression()\n",
    "LR_grid= GridSearchCV(LR_model, tuned_parameters,cv=10)\n",
    "LR_grid.fit(x_train,y_train)"
   ]
  },
  {
   "cell_type": "code",
   "execution_count": 62,
   "metadata": {
    "collapsed": false
   },
   "outputs": [
    {
     "name": "stdout",
     "output_type": "stream",
     "text": [
      "{'C': 0.01, 'penalty': 'l1'}\n"
     ]
    }
   ],
   "source": [
    "print(LR_grid.best_params_)"
   ]
  },
  {
   "cell_type": "code",
   "execution_count": 63,
   "metadata": {
    "collapsed": false
   },
   "outputs": [
    {
     "name": "stdout",
     "output_type": "stream",
     "text": [
      "0.809446254072\n"
     ]
    }
   ],
   "source": [
    "print(LR_grid.best_score_)"
   ]
  },
  {
   "cell_type": "code",
   "execution_count": 64,
   "metadata": {
    "collapsed": true
   },
   "outputs": [],
   "source": [
    "LR = LogisticRegression(C = 0.01, penalty='l1', random_state= 0)\n",
    "LR = LR.fit(x_train,y_train)"
   ]
  },
  {
   "cell_type": "code",
   "execution_count": 65,
   "metadata": {
    "collapsed": false
   },
   "outputs": [],
   "source": [
    "y_pred = LR.predict(x_train)"
   ]
  },
  {
   "cell_type": "code",
   "execution_count": 66,
   "metadata": {
    "collapsed": false
   },
   "outputs": [
    {
     "data": {
      "text/plain": [
       "array([[ 82, 110],\n",
       "       [  7, 415]])"
      ]
     },
     "execution_count": 66,
     "metadata": {},
     "output_type": "execute_result"
    }
   ],
   "source": [
    "confusion_matrix=metrics.confusion_matrix(y_train,y_pred)\n",
    "confusion_matrix"
   ]
  },
  {
   "cell_type": "code",
   "execution_count": 67,
   "metadata": {
    "collapsed": false
   },
   "outputs": [
    {
     "data": {
      "text/plain": [
       "0.80944625407166126"
      ]
     },
     "execution_count": 67,
     "metadata": {},
     "output_type": "execute_result"
    }
   ],
   "source": [
    "metrics.accuracy_score(y_train, y_pred)"
   ]
  },
  {
   "cell_type": "markdown",
   "metadata": {},
   "source": [
    "### Decision Tree"
   ]
  },
  {
   "cell_type": "code",
   "execution_count": 68,
   "metadata": {
    "collapsed": false
   },
   "outputs": [
    {
     "data": {
      "text/plain": [
       "GridSearchCV(cv=10, error_score='raise',\n",
       "       estimator=DecisionTreeClassifier(class_weight=None, criterion='gini', max_depth=None,\n",
       "            max_features=None, max_leaf_nodes=None,\n",
       "            min_impurity_split=1e-07, min_samples_leaf=1,\n",
       "            min_samples_split=2, min_weight_fraction_leaf=0.0,\n",
       "            presort=False, random_state=None, splitter='best'),\n",
       "       fit_params={}, iid=True, n_jobs=1,\n",
       "       param_grid={'min_samples_split': range(5, 100, 5), 'max_depth': range(1, 50, 2)},\n",
       "       pre_dispatch='2*n_jobs', refit=True, return_train_score=True,\n",
       "       scoring=None, verbose=0)"
      ]
     },
     "execution_count": 68,
     "metadata": {},
     "output_type": "execute_result"
    }
   ],
   "source": [
    "#Performing Grid Search\n",
    "tuned_parameters={'min_samples_split' : range(5,100,5),'max_depth': range(1,50,2)}\n",
    "DT_tree=tree.DecisionTreeClassifier()\n",
    "DT_grid=GridSearchCV(DT_tree,tuned_parameters,cv =10)\n",
    "DT_grid.fit(x_train,y_train)"
   ]
  },
  {
   "cell_type": "code",
   "execution_count": 69,
   "metadata": {
    "collapsed": false
   },
   "outputs": [
    {
     "name": "stdout",
     "output_type": "stream",
     "text": [
      "{'max_depth': 3, 'min_samples_split': 35}\n"
     ]
    }
   ],
   "source": [
    "print(DT_grid.best_params_)"
   ]
  },
  {
   "cell_type": "code",
   "execution_count": 70,
   "metadata": {
    "collapsed": false
   },
   "outputs": [
    {
     "name": "stdout",
     "output_type": "stream",
     "text": [
      "DecisionTreeClassifier(class_weight=None, criterion='gini', max_depth=3,\n",
      "            max_features=None, max_leaf_nodes=None,\n",
      "            min_impurity_split=1e-07, min_samples_leaf=1,\n",
      "            min_samples_split=35, min_weight_fraction_leaf=0.0,\n",
      "            presort=False, random_state=None, splitter='best')\n"
     ]
    }
   ],
   "source": [
    "print(DT_grid.best_estimator_)"
   ]
  },
  {
   "cell_type": "code",
   "execution_count": 71,
   "metadata": {
    "collapsed": false
   },
   "outputs": [
    {
     "name": "stdout",
     "output_type": "stream",
     "text": [
      "0.811074918567\n"
     ]
    }
   ],
   "source": [
    "print(DT_grid.best_score_)"
   ]
  },
  {
   "cell_type": "code",
   "execution_count": 72,
   "metadata": {
    "collapsed": true
   },
   "outputs": [],
   "source": [
    "#Fitting classifier to training set\n",
    "DT = DecisionTreeClassifier(max_depth=3, min_samples_split = 25, random_state= 123)\n",
    "DT = DT.fit(x_train,y_train)"
   ]
  },
  {
   "cell_type": "code",
   "execution_count": 73,
   "metadata": {
    "collapsed": true
   },
   "outputs": [],
   "source": [
    "y_pred = DT.predict(x_train)"
   ]
  },
  {
   "cell_type": "code",
   "execution_count": 74,
   "metadata": {
    "collapsed": false
   },
   "outputs": [
    {
     "data": {
      "text/plain": [
       "array([[106,  86],\n",
       "       [ 20, 402]])"
      ]
     },
     "execution_count": 74,
     "metadata": {},
     "output_type": "execute_result"
    }
   ],
   "source": [
    "confusion_matrix=metrics.confusion_matrix(y_train,y_pred)\n",
    "confusion_matrix"
   ]
  },
  {
   "cell_type": "code",
   "execution_count": 75,
   "metadata": {
    "collapsed": false
   },
   "outputs": [
    {
     "data": {
      "text/plain": [
       "0.82736156351791534"
      ]
     },
     "execution_count": 75,
     "metadata": {},
     "output_type": "execute_result"
    }
   ],
   "source": [
    "metrics.accuracy_score(y_train, y_pred)"
   ]
  },
  {
   "cell_type": "markdown",
   "metadata": {},
   "source": [
    "### Random Forest"
   ]
  },
  {
   "cell_type": "code",
   "execution_count": 80,
   "metadata": {
    "collapsed": false
   },
   "outputs": [
    {
     "data": {
      "text/plain": [
       "RandomizedSearchCV(cv=10, error_score='raise',\n",
       "          estimator=RandomForestClassifier(bootstrap=True, class_weight=None, criterion='gini',\n",
       "            max_depth=None, max_features='auto', max_leaf_nodes=None,\n",
       "            min_impurity_split=1e-07, min_samples_leaf=1,\n",
       "            min_samples_split=2, min_weight_fraction_leaf=0.0,\n",
       "            n_estimators=10, n_jobs=1, oob_score=False, random_state=None,\n",
       "            verbose=0, warm_start=False),\n",
       "          fit_params={}, iid=True, n_iter=30, n_jobs=-1,\n",
       "          param_distributions={'min_samples_leaf': range(5, 200, 5), 'min_samples_split': range(5, 100, 5), 'n_estimators': range(5, 250, 5), 'max_depth': range(5, 50, 5), 'criterion': ['entropy'], 'max_features': ['auto', 'sqrt', 'log2']},\n",
       "          pre_dispatch='2*n_jobs', random_state=123, refit=True,\n",
       "          return_train_score=True, scoring='accuracy', verbose=0)"
      ]
     },
     "execution_count": 80,
     "metadata": {},
     "output_type": "execute_result"
    }
   ],
   "source": [
    "tuned_parameters = {'min_samples_leaf': range(5,200,5), \n",
    "                    'min_samples_split': range(5,100,5),\n",
    "                    'n_estimators' : range(5,250,5), \n",
    "                    'max_depth': range(5,50,5),\n",
    "                    'criterion': ['entropy'],\n",
    "                    'max_features':['auto','sqrt','log2']\n",
    "                    }\n",
    "RF_model = RandomForestClassifier()\n",
    "RF_grid= RandomizedSearchCV(RF_model, tuned_parameters,cv=10,scoring='accuracy',n_iter=30,n_jobs= -1,random_state= 123)\n",
    "RF_grid.fit(x_train,y_train)"
   ]
  },
  {
   "cell_type": "code",
   "execution_count": 81,
   "metadata": {
    "collapsed": false
   },
   "outputs": [
    {
     "name": "stdout",
     "output_type": "stream",
     "text": [
      "{'n_estimators': 110, 'min_samples_split': 70, 'min_samples_leaf': 15, 'max_features': 'auto', 'max_depth': 15, 'criterion': 'entropy'}\n"
     ]
    }
   ],
   "source": [
    "print(RF_grid.best_params_)"
   ]
  },
  {
   "cell_type": "code",
   "execution_count": 82,
   "metadata": {
    "collapsed": false
   },
   "outputs": [
    {
     "name": "stdout",
     "output_type": "stream",
     "text": [
      "RandomForestClassifier(bootstrap=True, class_weight=None, criterion='entropy',\n",
      "            max_depth=15, max_features='auto', max_leaf_nodes=None,\n",
      "            min_impurity_split=1e-07, min_samples_leaf=15,\n",
      "            min_samples_split=70, min_weight_fraction_leaf=0.0,\n",
      "            n_estimators=110, n_jobs=1, oob_score=False, random_state=None,\n",
      "            verbose=0, warm_start=False)\n"
     ]
    }
   ],
   "source": [
    "print(RF_grid.best_estimator_)"
   ]
  },
  {
   "cell_type": "code",
   "execution_count": 103,
   "metadata": {
    "collapsed": false
   },
   "outputs": [
    {
     "name": "stdout",
     "output_type": "stream",
     "text": [
      "0.812703583062\n"
     ]
    }
   ],
   "source": [
    "print(RF_grid.best_score_)"
   ]
  },
  {
   "cell_type": "code",
   "execution_count": 83,
   "metadata": {
    "collapsed": false
   },
   "outputs": [],
   "source": [
    "#Fitting classifier to training set\n",
    "RF = RandomForestClassifier(max_depth = 15, min_samples_split=70, \n",
    "                            n_estimators = 110, min_samples_leaf = 15, \n",
    "                            max_features= 'auto',criterion = \"entropy\", random_state = 123)\n",
    "RF = RF.fit(x_train,y_train)"
   ]
  },
  {
   "cell_type": "code",
   "execution_count": 84,
   "metadata": {
    "collapsed": false
   },
   "outputs": [],
   "source": [
    "y_pred = DT.predict(x_train)"
   ]
  },
  {
   "cell_type": "code",
   "execution_count": 85,
   "metadata": {
    "collapsed": false
   },
   "outputs": [
    {
     "data": {
      "text/plain": [
       "array([[106,  86],\n",
       "       [ 20, 402]])"
      ]
     },
     "execution_count": 85,
     "metadata": {},
     "output_type": "execute_result"
    }
   ],
   "source": [
    "confusion_matrix=metrics.confusion_matrix(y_train,y_pred)\n",
    "confusion_matrix"
   ]
  },
  {
   "cell_type": "code",
   "execution_count": 86,
   "metadata": {
    "collapsed": false
   },
   "outputs": [
    {
     "data": {
      "text/plain": [
       "0.82736156351791534"
      ]
     },
     "execution_count": 86,
     "metadata": {},
     "output_type": "execute_result"
    }
   ],
   "source": [
    "metrics.accuracy_score(y_train, y_pred)"
   ]
  },
  {
   "cell_type": "markdown",
   "metadata": {},
   "source": [
    "### KNN\n",
    "* we are getting accuracy score as 1 in Training set which indicates overfitting"
   ]
  },
  {
   "cell_type": "code",
   "execution_count": 87,
   "metadata": {
    "collapsed": false
   },
   "outputs": [
    {
     "data": {
      "text/plain": [
       "GridSearchCV(cv=10, error_score='raise',\n",
       "       estimator=KNeighborsClassifier(algorithm='auto', leaf_size=30, metric='minkowski',\n",
       "           metric_params=None, n_jobs=1, n_neighbors=5, p=2,\n",
       "           weights='uniform'),\n",
       "       fit_params={}, iid=True, n_jobs=1,\n",
       "       param_grid={'n_neighbors': range(1, 20), 'weights': ['distance'], 'algorithm': ['auto']},\n",
       "       pre_dispatch='2*n_jobs', refit=True, return_train_score=True,\n",
       "       scoring=None, verbose=0)"
      ]
     },
     "execution_count": 87,
     "metadata": {},
     "output_type": "execute_result"
    }
   ],
   "source": [
    "tuned_parameters = {'n_neighbors': range(1,20,1), \n",
    "                    'weights': ['distance'], \n",
    "                    'algorithm':['auto']}\n",
    "KN_model = KNeighborsClassifier()\n",
    "KN_grid = GridSearchCV(KN_model,tuned_parameters, cv =10)\n",
    "KN_grid.fit(x_train,y_train)"
   ]
  },
  {
   "cell_type": "code",
   "execution_count": 88,
   "metadata": {
    "collapsed": false
   },
   "outputs": [
    {
     "name": "stdout",
     "output_type": "stream",
     "text": [
      "{'algorithm': 'auto', 'n_neighbors': 19, 'weights': 'distance'}\n"
     ]
    }
   ],
   "source": [
    "print(KN_grid.best_params_)"
   ]
  },
  {
   "cell_type": "code",
   "execution_count": 89,
   "metadata": {
    "collapsed": false
   },
   "outputs": [
    {
     "name": "stdout",
     "output_type": "stream",
     "text": [
      "0.799674267101\n"
     ]
    }
   ],
   "source": [
    "print(KN_grid.best_score_)"
   ]
  },
  {
   "cell_type": "code",
   "execution_count": 90,
   "metadata": {
    "collapsed": false
   },
   "outputs": [
    {
     "name": "stdout",
     "output_type": "stream",
     "text": [
      "KNeighborsClassifier(algorithm='auto', leaf_size=30, metric='minkowski',\n",
      "           metric_params=None, n_jobs=1, n_neighbors=19, p=2,\n",
      "           weights='distance')\n"
     ]
    }
   ],
   "source": [
    "print(KN_grid.best_estimator_)"
   ]
  },
  {
   "cell_type": "code",
   "execution_count": 91,
   "metadata": {
    "collapsed": true
   },
   "outputs": [],
   "source": [
    "#Fitting classifier to training set\n",
    "KN = KNeighborsClassifier(algorithm='auto', leaf_size=30, metric='minkowski',\n",
    "           metric_params=None, n_jobs=1, n_neighbors=19, p=2,\n",
    "           weights='distance')\n",
    "KN = KN.fit(x_train,y_train)"
   ]
  },
  {
   "cell_type": "code",
   "execution_count": 92,
   "metadata": {
    "collapsed": false
   },
   "outputs": [],
   "source": [
    "y_pred = KN.predict(x_train)"
   ]
  },
  {
   "cell_type": "code",
   "execution_count": 93,
   "metadata": {
    "collapsed": false
   },
   "outputs": [
    {
     "data": {
      "text/plain": [
       "array([[192,   0],\n",
       "       [  0, 422]])"
      ]
     },
     "execution_count": 93,
     "metadata": {},
     "output_type": "execute_result"
    }
   ],
   "source": [
    "confusion_matrix=metrics.confusion_matrix(y_train,y_pred)\n",
    "confusion_matrix"
   ]
  },
  {
   "cell_type": "code",
   "execution_count": 94,
   "metadata": {
    "collapsed": false
   },
   "outputs": [
    {
     "data": {
      "text/plain": [
       "1.0"
      ]
     },
     "execution_count": 94,
     "metadata": {},
     "output_type": "execute_result"
    }
   ],
   "source": [
    "metrics.accuracy_score(y_train, y_pred)"
   ]
  },
  {
   "cell_type": "markdown",
   "metadata": {},
   "source": [
    "### SVM"
   ]
  },
  {
   "cell_type": "code",
   "execution_count": 95,
   "metadata": {
    "collapsed": false
   },
   "outputs": [
    {
     "data": {
      "text/plain": [
       "GridSearchCV(cv=5, error_score='raise',\n",
       "       estimator=SVC(C=1.0, cache_size=200, class_weight=None, coef0=0.0,\n",
       "  decision_function_shape=None, degree=3, gamma='auto', kernel='rbf',\n",
       "  max_iter=-1, probability=False, random_state=None, shrinking=True,\n",
       "  tol=0.001, verbose=False),\n",
       "       fit_params={}, iid=True, n_jobs=1,\n",
       "       param_grid=[{'kernel': ['rbf'], 'gamma': [0.001, 0.0001], 'C': [1, 10, 100, 1000]}],\n",
       "       pre_dispatch='2*n_jobs', refit=True, return_train_score=True,\n",
       "       scoring=None, verbose=0)"
      ]
     },
     "execution_count": 95,
     "metadata": {},
     "output_type": "execute_result"
    }
   ],
   "source": [
    "# with rbf kernel\n",
    "from sklearn.svm import SVC\n",
    "tuned_parameters = [{'kernel': ['rbf'], 'gamma': [1e-3, 1e-4],\n",
    "                     'C': [1, 10, 100, 1000]}]\n",
    "SVM_model = SVC()\n",
    "SVM_grid = GridSearchCV(SVM_model,tuned_parameters, cv =5)\n",
    "SVM_grid.fit(x_train,y_train)"
   ]
  },
  {
   "cell_type": "code",
   "execution_count": 96,
   "metadata": {
    "collapsed": false
   },
   "outputs": [
    {
     "name": "stdout",
     "output_type": "stream",
     "text": [
      "{'C': 1, 'gamma': 0.001, 'kernel': 'rbf'}\n"
     ]
    }
   ],
   "source": [
    "print(SVM_grid.best_params_)"
   ]
  },
  {
   "cell_type": "code",
   "execution_count": 97,
   "metadata": {
    "collapsed": false
   },
   "outputs": [],
   "source": [
    "SVM = SVC(C= 1, gamma= 0.001, kernel= 'rbf')\n",
    "SVM = SVM.fit(x_train,y_train)\n",
    "y_pred = SVM.predict(x_train)"
   ]
  },
  {
   "cell_type": "code",
   "execution_count": 98,
   "metadata": {
    "collapsed": false
   },
   "outputs": [
    {
     "data": {
      "text/plain": [
       "array([[ 82, 110],\n",
       "       [  7, 415]])"
      ]
     },
     "execution_count": 98,
     "metadata": {},
     "output_type": "execute_result"
    }
   ],
   "source": [
    "confusion_matrix=metrics.confusion_matrix(y_train,y_pred)\n",
    "confusion_matrix"
   ]
  },
  {
   "cell_type": "code",
   "execution_count": 99,
   "metadata": {
    "collapsed": false
   },
   "outputs": [
    {
     "data": {
      "text/plain": [
       "0.80944625407166126"
      ]
     },
     "execution_count": 99,
     "metadata": {},
     "output_type": "execute_result"
    }
   ],
   "source": [
    "metrics.accuracy_score(y_train, y_pred)"
   ]
  },
  {
   "cell_type": "code",
   "execution_count": 100,
   "metadata": {
    "collapsed": false
   },
   "outputs": [
    {
     "data": {
      "text/plain": [
       "GridSearchCV(cv=5, error_score='raise',\n",
       "       estimator=SVC(C=1.0, cache_size=200, class_weight=None, coef0=0.0,\n",
       "  decision_function_shape=None, degree=3, gamma='auto', kernel='rbf',\n",
       "  max_iter=-1, probability=False, random_state=None, shrinking=True,\n",
       "  tol=0.001, verbose=False),\n",
       "       fit_params={}, iid=True, n_jobs=1,\n",
       "       param_grid=[{'kernel': ['linear'], 'C': [1, 10]}],\n",
       "       pre_dispatch='2*n_jobs', refit=True, return_train_score=True,\n",
       "       scoring=None, verbose=0)"
      ]
     },
     "execution_count": 100,
     "metadata": {},
     "output_type": "execute_result"
    }
   ],
   "source": [
    "# with Linear Kernel\n",
    "from sklearn.svm import SVC\n",
    "tuned_parameters = [{'kernel': ['linear'], 'C': [1, 10]}]\n",
    "SVM_model = SVC()\n",
    "SVM_grid = GridSearchCV(SVM_model,tuned_parameters, cv =5)\n",
    "SVM_grid.fit(x_train,y_train)"
   ]
  },
  {
   "cell_type": "code",
   "execution_count": 101,
   "metadata": {
    "collapsed": false
   },
   "outputs": [
    {
     "name": "stdout",
     "output_type": "stream",
     "text": [
      "{'C': 1, 'kernel': 'linear'}\n"
     ]
    }
   ],
   "source": [
    "print(SVM_grid.best_params_)"
   ]
  },
  {
   "cell_type": "code",
   "execution_count": 102,
   "metadata": {
    "collapsed": true
   },
   "outputs": [],
   "source": [
    "SVM = SVC(C= 1, kernel= 'linear')\n",
    "SVM = SVM.fit(x_train,y_train)\n",
    "y_pred = SVM.predict(x_train)"
   ]
  },
  {
   "cell_type": "code",
   "execution_count": 103,
   "metadata": {
    "collapsed": false
   },
   "outputs": [
    {
     "data": {
      "text/plain": [
       "array([[ 82, 110],\n",
       "       [  7, 415]])"
      ]
     },
     "execution_count": 103,
     "metadata": {},
     "output_type": "execute_result"
    }
   ],
   "source": [
    "confusion_matrix=metrics.confusion_matrix(y_train,y_pred)\n",
    "confusion_matrix"
   ]
  },
  {
   "cell_type": "code",
   "execution_count": 104,
   "metadata": {
    "collapsed": false
   },
   "outputs": [
    {
     "data": {
      "text/plain": [
       "0.80944625407166126"
      ]
     },
     "execution_count": 104,
     "metadata": {},
     "output_type": "execute_result"
    }
   ],
   "source": [
    "metrics.accuracy_score(y_train, y_pred)"
   ]
  },
  {
   "cell_type": "markdown",
   "metadata": {},
   "source": [
    "### Submission File"
   ]
  },
  {
   "cell_type": "code",
   "execution_count": 98,
   "metadata": {
    "collapsed": false
   },
   "outputs": [],
   "source": [
    "y_pred = RF.predict(x_test)"
   ]
  },
  {
   "cell_type": "code",
   "execution_count": 99,
   "metadata": {
    "collapsed": true
   },
   "outputs": [],
   "source": [
    "submit = test_dataset['Loan_ID']"
   ]
  },
  {
   "cell_type": "code",
   "execution_count": 100,
   "metadata": {
    "collapsed": true
   },
   "outputs": [],
   "source": [
    "preds = pd.Series(y_pred)\n",
    "submit = pd.concat([submit, preds], names=['Loan_ID', 'Loan_Status'], axis=1)\n",
    "submit.columns = ['Loan_ID', 'Loan_Status']"
   ]
  },
  {
   "cell_type": "code",
   "execution_count": 101,
   "metadata": {
    "collapsed": true
   },
   "outputs": [],
   "source": [
    "submit.to_csv('loan.csv', index=False)"
   ]
  },
  {
   "cell_type": "code",
   "execution_count": 102,
   "metadata": {
    "collapsed": true
   },
   "outputs": [],
   "source": [
    "sub = pd.read_csv(\"D:/Machine Learning/UPX/Projects/Machine Learning Projects/Datasets/Loan_prediction/loan.csv\")"
   ]
  },
  {
   "cell_type": "code",
   "execution_count": 103,
   "metadata": {
    "collapsed": false
   },
   "outputs": [],
   "source": [
    "sub[\"Loan_Status\"] = sub[\"Loan_Status\"].apply(lambda Loan_Status: 'Y' if Loan_Status == 1 else 'N')"
   ]
  },
  {
   "cell_type": "code",
   "execution_count": 104,
   "metadata": {
    "collapsed": false
   },
   "outputs": [],
   "source": [
    "sub.to_csv('Sample_Submission.csv', index=False)"
   ]
  },
  {
   "cell_type": "code",
   "execution_count": null,
   "metadata": {
    "collapsed": true
   },
   "outputs": [],
   "source": []
  }
 ],
 "metadata": {
  "kernelspec": {
   "display_name": "Python 3",
   "language": "python",
   "name": "python3"
  },
  "language_info": {
   "codemirror_mode": {
    "name": "ipython",
    "version": 3
   },
   "file_extension": ".py",
   "mimetype": "text/x-python",
   "name": "python",
   "nbconvert_exporter": "python",
   "pygments_lexer": "ipython3",
   "version": "3.6.0"
  }
 },
 "nbformat": 4,
 "nbformat_minor": 2
}
